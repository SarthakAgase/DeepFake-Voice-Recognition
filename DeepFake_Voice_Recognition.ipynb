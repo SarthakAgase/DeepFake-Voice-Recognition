{
  "nbformat": 4,
  "nbformat_minor": 0,
  "metadata": {
    "colab": {
      "provenance": [],
      "include_colab_link": true
    },
    "kernelspec": {
      "name": "python3",
      "display_name": "Python 3"
    },
    "language_info": {
      "name": "python"
    }
  },
  "cells": [
    {
      "cell_type": "markdown",
      "metadata": {
        "id": "view-in-github",
        "colab_type": "text"
      },
      "source": [
        "<a href=\"https://colab.research.google.com/github/SarthakAgase/DeepFake-Voice-Recognition/blob/main/DeepFake_Voice_Recognition.ipynb\" target=\"_parent\"><img src=\"https://colab.research.google.com/assets/colab-badge.svg\" alt=\"Open In Colab\"/></a>"
      ]
    },
    {
      "cell_type": "code",
      "execution_count": null,
      "metadata": {
        "colab": {
          "base_uri": "https://localhost:8080/"
        },
        "id": "UDRqmiTqhvt0",
        "outputId": "a53c1930-f817-4392-b3f9-f179079ba3c8"
      },
      "outputs": [
        {
          "output_type": "stream",
          "name": "stdout",
          "text": [
            "   chroma_stft       rms  spectral_centroid  spectral_bandwidth      rolloff  \\\n",
            "0     0.338055  0.027948        2842.948867         4322.916759  6570.586186   \n",
            "1     0.443766  0.037838        2336.129597         3445.777044  3764.949874   \n",
            "2     0.302528  0.056578        2692.988386         2861.133180  4716.610271   \n",
            "3     0.319933  0.031504        2241.665382         3503.766175  3798.641521   \n",
            "4     0.420055  0.016158        2526.069123         3102.659519  5025.077899   \n",
            "5     0.442880  0.012317        3952.880304         3702.717829  7104.089991   \n",
            "6     0.453897  0.021782        4178.072150         3698.644769  7508.242075   \n",
            "7     0.474154  0.011107        3993.039753         3948.154333  7872.563956   \n",
            "8     0.602690  0.000970        3815.431438         3992.517515  6887.564689   \n",
            "9     0.453962  0.017612        2894.560788         3435.434131  5663.232422   \n",
            "\n",
            "   zero_crossing_rate       mfcc1       mfcc2      mfcc3      mfcc4  ...  \\\n",
            "0            0.041050 -462.169586   90.311272  19.073769  24.046888  ...   \n",
            "1            0.047730 -409.413422  120.348808  -7.161531   5.114784  ...   \n",
            "2            0.080342 -318.996033  120.490273 -24.625771  23.891073  ...   \n",
            "3            0.047180 -404.636749  136.320908   2.308172  -3.907071  ...   \n",
            "4            0.051905 -410.497925  152.731400 -18.266771  51.993462  ...   \n",
            "5            0.115387 -498.179657   97.245255 -21.382017  45.624386  ...   \n",
            "6            0.131647 -410.383087   97.026733 -22.508402  49.689598  ...   \n",
            "7            0.114879 -440.818970  103.029533 -21.213911  49.066498  ...   \n",
            "8            0.121769 -539.965088   94.811630 -51.388660  33.196476  ...   \n",
            "9            0.065904 -403.053009  138.079620 -20.038134  39.301231  ...   \n",
            "\n",
            "      mfcc11    mfcc12     mfcc13    mfcc14    mfcc15    mfcc16    mfcc17  \\\n",
            "0 -14.181895 -6.686564   0.902086 -7.251551 -1.198342  4.747403 -4.986279   \n",
            "1   0.372541 -2.131157  -6.876417 -1.359395  0.326401 -5.420016 -2.109968   \n",
            "2  -3.099179 -5.853725  -3.724773 -6.627182 -5.117002 -6.072106 -0.994653   \n",
            "3   1.513633 -1.898315  -2.046493 -7.176277 -3.293508  4.209121  0.121835   \n",
            "4  11.086248 -1.952340   0.810868  6.238493  6.555839  7.535542  2.849219   \n",
            "5   1.654981 -6.466366   2.856888 -0.157036 -2.824058  0.383832 -1.089466   \n",
            "6  -8.828218 -5.320498  -4.209944 -2.051953 -0.714617 -7.889741 -0.377954   \n",
            "7  -5.966704  2.810230  -2.150585 -1.529685  3.354003 -6.589828  5.678379   \n",
            "8   9.036678 -1.619109  10.417936 -9.675606 -0.937404  0.909395  4.827445   \n",
            "9  -8.098880  0.496345  -0.003924  0.801856  3.294856 -5.852333 -1.849402   \n",
            "\n",
            "     mfcc18    mfcc19     mfcc20  \n",
            "0  0.953935 -5.013138  -6.779060  \n",
            "1 -1.757634 -9.537907  -8.494421  \n",
            "2 -1.617120 -3.922354  -7.033001  \n",
            "3 -5.407063 -3.654926  -3.274857  \n",
            "4  2.616843 -1.793357  -5.060998  \n",
            "5  2.998828 -5.218136  -1.423959  \n",
            "6 -8.421499 -5.800948 -12.060839  \n",
            "7 -2.742477 -5.159016 -10.969421  \n",
            "8  5.055848 -3.618021   5.053717  \n",
            "9 -7.108891 -0.818681  -7.824217  \n",
            "\n",
            "[10 rows x 26 columns]\n",
            "0    FAKE\n",
            "1    FAKE\n",
            "2    FAKE\n",
            "3    FAKE\n",
            "4    FAKE\n",
            "5    FAKE\n",
            "6    FAKE\n",
            "7    FAKE\n",
            "8    FAKE\n",
            "9    FAKE\n",
            "Name: LABEL, dtype: object\n"
          ]
        }
      ],
      "source": [
        "import pandas as pd\n",
        "\n",
        "df = pd.read_csv(\"/content/DATASET-balanced.csv\")\n",
        "\n",
        "X = df.iloc[:,:-1]\n",
        "y = df.iloc[:,-1]\n",
        "\n",
        "print(X.head(10))\n",
        "print(y.head(10))"
      ]
    },
    {
      "cell_type": "code",
      "source": [
        "from sklearn import preprocessing\n",
        "lb = preprocessing.LabelBinarizer()\n",
        "lb.fit(y)\n",
        "y = lb.transform(y)\n",
        "y = y.ravel()\n",
        "print(y)"
      ],
      "metadata": {
        "colab": {
          "base_uri": "https://localhost:8080/"
        },
        "id": "DitcexF6iODQ",
        "outputId": "bde02809-f7f2-4f61-91d9-fbd949c05c68"
      },
      "execution_count": null,
      "outputs": [
        {
          "output_type": "stream",
          "name": "stdout",
          "text": [
            "[0 0 0 ... 1 1 1]\n"
          ]
        }
      ]
    },
    {
      "cell_type": "code",
      "source": [
        "from sklearn.ensemble import RandomForestClassifier\n",
        "model = RandomForestClassifier(n_estimators=50, random_state=1)\n",
        "\n",
        "from sklearn.model_selection import KFold\n",
        "kf = KFold(n_splits=5,  shuffle=True, random_state=1)\n",
        "\n",
        "print(model)\n",
        "print(\"KFold splits: \" + str(kf.get_n_splits(X)))"
      ],
      "metadata": {
        "colab": {
          "base_uri": "https://localhost:8080/"
        },
        "id": "DipxOJbQiRNA",
        "outputId": "0d41a967-d297-4702-e799-d3506e5751fa"
      },
      "execution_count": null,
      "outputs": [
        {
          "output_type": "stream",
          "name": "stdout",
          "text": [
            "RandomForestClassifier(n_estimators=50, random_state=1)\n",
            "KFold splits: 5\n"
          ]
        }
      ]
    },
    {
      "cell_type": "code",
      "source": [
        "import time\n",
        "\n",
        "import numpy as np\n",
        "\n",
        "from sklearn.metrics import accuracy_score, precision_score, recall_score, f1_score, matthews_corrcoef, roc_auc_score\n",
        "\n",
        "acc_score = []\n",
        "prec_score = []\n",
        "rec_score = []\n",
        "f1s = []\n",
        "MCCs = []\n",
        "ROCareas = []\n",
        "\n",
        "start = time.time()\n",
        "for train_index , test_index in kf.split(X):\n",
        "    X_train , X_test = X.iloc[train_index,:],X.iloc[test_index,:]\n",
        "    y_train , y_test = y[train_index] , y[test_index]\n",
        "\n",
        "    model.fit(X_train,y_train)\n",
        "    pred_values = model.predict(X_test)\n",
        "\n",
        "    acc = accuracy_score(pred_values , y_test)\n",
        "    acc_score.append(acc)\n",
        "\n",
        "    prec = precision_score(y_test , pred_values, average=\"binary\", pos_label=1)\n",
        "    prec_score.append(prec)\n",
        "\n",
        "    rec = recall_score(y_test , pred_values, average=\"binary\", pos_label=1)\n",
        "    rec_score.append(rec)\n",
        "\n",
        "    f1 = f1_score(y_test , pred_values, average=\"binary\", pos_label=1)\n",
        "    f1s.append(f1)\n",
        "\n",
        "    mcc = matthews_corrcoef(y_test , pred_values)\n",
        "    MCCs.append(mcc)\n",
        "\n",
        "    roc = roc_auc_score(y_test , pred_values)\n",
        "    ROCareas.append(roc)\n",
        "\n",
        "end = time.time()\n",
        "timeTaken = (end - start)\n",
        "print(\"Model trained in: \" + str( round(timeTaken, 2) ) + \" seconds.\")"
      ],
      "metadata": {
        "colab": {
          "base_uri": "https://localhost:8080/"
        },
        "id": "fM6T1BzziUTO",
        "outputId": "abf1c04d-40ac-416c-feab-2439163e8d0b"
      },
      "execution_count": null,
      "outputs": [
        {
          "output_type": "stream",
          "name": "stdout",
          "text": [
            "Model trained in: 14.58 seconds.\n"
          ]
        }
      ]
    },
    {
      "cell_type": "code",
      "source": [
        "print(\"Mean results and (std.):\\n\")\n",
        "print(\"Accuracy: \" + str( round(np.mean(acc_score)*100, 3) ) + \"% (\" + str( round(np.std(acc_score)*100, 3) ) + \")\\n\")\n",
        "print(\"Precision: \" + str( round(np.mean(prec_score), 3) ) + \" (\" + str( round(np.std(prec_score), 3) ) + \")\")\n",
        "print(\"Recall: \" + str( round(np.mean(rec_score), 3) ) + \" (\" + str( round(np.std(rec_score), 3) ) + \")\")\n",
        "print(\"F1-Score: \" + str( round(np.mean(f1s), 3) ) + \" (\" + str( round(np.std(f1s), 3) ) + \")\")\n",
        "print(\"MCC: \" + str( round(np.mean(MCCs), 3) ) + \" (\" + str( round(np.std(MCCs), 3) ) + \")\")\n",
        "print(\"ROC AUC: \" + str( round(np.mean(ROCareas), 3) ) + \" (\" + str( round(np.std(ROCareas), 3) ) + \")\")"
      ],
      "metadata": {
        "colab": {
          "base_uri": "https://localhost:8080/"
        },
        "id": "b_1oNbY4iYXI",
        "outputId": "cfcdf2d3-226f-4bc0-d801-8f6d04f90643"
      },
      "execution_count": null,
      "outputs": [
        {
          "output_type": "stream",
          "name": "stdout",
          "text": [
            "Mean results and (std.):\n",
            "\n",
            "Accuracy: 98.574% (0.272)\n",
            "\n",
            "Precision: 0.993 (0.002)\n",
            "Recall: 0.979 (0.006)\n",
            "F1-Score: 0.986 (0.003)\n",
            "MCC: 0.972 (0.005)\n",
            "ROC AUC: 0.986 (0.003)\n"
          ]
        }
      ]
    }
  ]
}